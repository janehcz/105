{
 "cells": [
  {
   "cell_type": "markdown",
   "metadata": {},
   "source": [
    "## Lecture 2: Linear Regression in `sklearn` and (maybe) K-NN Regression\n",
    "  "
   ]
  },
  {
   "cell_type": "code",
   "execution_count": 31,
   "metadata": {},
   "outputs": [],
   "source": [
    "import numpy as np\n",
    "from matplotlib import pyplot as plt\n",
    "import pandas as pd\n",
    "from numpy import random\n",
    "rng = random.default_rng(123)"
   ]
  },
  {
   "cell_type": "markdown",
   "metadata": {},
   "source": [
    "## Simple Linear Regression\n",
    "\n",
    "Our aim is to find the line that best fits these observations in the *least-squares sense*, as discussed in the last lecture.\n",
    "\n",
    "Here's the function we made last time. "
   ]
  },
  {
   "cell_type": "code",
   "execution_count": 32,
   "metadata": {},
   "outputs": [],
   "source": [
    "def simple_linear_regression_fit(x_train: np.ndarray, y_train: np.ndarray):\n",
    "    \"\"\"\n",
    "    Inputs:\n",
    "    x_train: a (num observations by 1) array holding the values of the predictor variable\n",
    "    y_train: a (num observations by 1) array holding the values of the response variable\n",
    "\n",
    "    Returns:\n",
    "    beta_vals:  a (num_features by 1) array holding the intercept and slope coeficients\n",
    "    \"\"\"\n",
    "    \n",
    "    # Check input array sizes\n",
    "    if len(x_train.shape) < 2:\n",
    "        print(\"Reshaping features array.\")\n",
    "        x_train = x_train.reshape(x_train.shape[0], 1)\n",
    "\n",
    "    if len(y_train.shape) < 2:\n",
    "        print(\"Reshaping observations array.\")\n",
    "        y_train = y_train.reshape(y_train.shape[0], 1)\n",
    "\n",
    "    # first, compute means\n",
    "    y_bar = np.mean(y_train)\n",
    "    x_bar = np.mean(x_train)\n",
    "\n",
    "    # build the two terms\n",
    "    numerator = np.sum( (x_train - x_bar)*(y_train - y_bar) )\n",
    "    denominator = np.sum((x_train - x_bar)**2)\n",
    "    \n",
    "    #slope beta1\n",
    "    beta_1 = numerator/denominator\n",
    "\n",
    "    #intercept beta0\n",
    "    beta_0 = y_bar - beta_1*x_bar\n",
    "\n",
    "    return np.array([beta_0,beta_1])"
   ]
  },
  {
   "cell_type": "markdown",
   "metadata": {},
   "source": [
    "* Let's create data same as last time "
   ]
  },
  {
   "cell_type": "code",
   "execution_count": 33,
   "metadata": {},
   "outputs": [],
   "source": [
    "# Create some data\n",
    "# x is an evenly space array of integers\n",
    "x = np.arange(0, 20)\n",
    "\n",
    "# y is some data with underlying relationship y = beta_1* x + beta_0\n",
    "#  For this example, the true relation of the data is y = 2x + 5\n",
    "true_beta_1 = 2\n",
    "true_beta_0 = 5\n",
    "ylinear = true_beta_1 * x + true_beta_0\n",
    "noise_std = 20\n",
    "# Add some noise to the y dimension\n",
    "noise = rng.normal(0, noise_std, len(x)) \n",
    "#the noise is drawn from a normal distribution with mean 0 and standard deviation noise_std\n",
    "y = ylinear + noise"
   ]
  },
  {
   "cell_type": "markdown",
   "metadata": {},
   "source": [
    "* Use our function to estimate the least-squares fit to the line"
   ]
  },
  {
   "cell_type": "code",
   "execution_count": 34,
   "metadata": {},
   "outputs": [
    {
     "name": "stdout",
     "output_type": "stream",
     "text": [
      "Reshaping features array.\n",
      "Reshaping observations array.\n",
      " Estimated Slope: 2.140223217202967\n",
      "Actual Slope: 2\n",
      " Estimated Intercept: 5.6836516333071\n",
      "Actual Intercept: 5\n"
     ]
    }
   ],
   "source": [
    "betas = simple_linear_regression_fit(x,y) #Im using the original data\n",
    "print(f\" Estimated Slope: {betas[1]}\")\n",
    "print(f\"Actual Slope: {true_beta_1}\")\n",
    "print(f\" Estimated Intercept: {betas[0]}\")\n",
    "print(f\"Actual Intercept: {true_beta_0}\")"
   ]
  },
  {
   "cell_type": "code",
   "execution_count": 35,
   "metadata": {},
   "outputs": [
    {
     "data": {
      "image/png": "[encoded data removed]",
      "text/plain": [
       "<Figure size 640x480 with 1 Axes>"
      ]
     },
     "metadata": {},
     "output_type": "display_data"
    }
   ],
   "source": [
    "plt.figure()\n",
    "plt.plot(x,y,'bo',label = 'data')\n",
    "yfit = betas[0] + betas[1]*x\n",
    "plt.plot(x,yfit,'ro',label = 'fit')\n",
    "plt.xlabel('x')\n",
    "plt.ylabel('y')\n",
    "plt.legend()\n",
    "plt.show()"
   ]
  },
  {
   "cell_type": "markdown",
   "metadata": {},
   "source": [
    "\n",
    "## Building a model with `sklearn`\n"
   ]
  },
  {
   "cell_type": "code",
   "execution_count": 36,
   "metadata": {},
   "outputs": [],
   "source": [
    "from sklearn import linear_model\n",
    "#I hate this,  All  the imports should be on the top. "
   ]
  },
  {
   "cell_type": "markdown",
   "metadata": {},
   "source": [
    "* fix x_train to be a column \n",
    "* this is kind of annoying Python \"feature\". \n",
    "* The default in scikit is is to work with data as columns.  "
   ]
  },
  {
   "cell_type": "code",
   "execution_count": 37,
   "metadata": {},
   "outputs": [],
   "source": [
    "x_train = x.reshape(x.shape[0], 1)\n",
    "y_train = y.reshape(y.shape[0], 1)"
   ]
  },
  {
   "cell_type": "markdown",
   "metadata": {},
   "source": [
    "* There is a standardized structure to sklearn objects/methods.  Once you get the hang of it, you can use any new method the same way. "
   ]
  },
  {
   "cell_type": "code",
   "execution_count": 38,
   "metadata": {},
   "outputs": [
    {
     "name": "stdout",
     "output_type": "stream",
     "text": [
      "[5.68365163]\n",
      "[2.14022322]\n"
     ]
    }
   ],
   "source": [
    "\n",
    "\n",
    "# build the least squares model object\n",
    "toyregr = linear_model.LinearRegression()\n",
    "# use the fit methdod to fit the model. \n",
    "# save regression info (parameters, etc)\n",
    "results = toyregr.fit(x_train, y_train)\n",
    "\n",
    "beta0 = toyregr.intercept_\n",
    "beta1 = toyregr.coef_[0]\n",
    "\n",
    "print(beta0)\n",
    "print(beta1)"
   ]
  },
  {
   "cell_type": "code",
   "execution_count": 39,
   "metadata": {},
   "outputs": [],
   "source": [
    "best_fit = beta0 + beta1 * x_train"
   ]
  },
  {
   "cell_type": "code",
   "execution_count": 40,
   "metadata": {},
   "outputs": [
    {
     "data": {
      "text/plain": [
       "<matplotlib.legend.Legend at 0x2478408da10>"
      ]
     },
     "execution_count": 40,
     "metadata": {},
     "output_type": "execute_result"
    },
    {
     "data": {
      "image/png": "[encoded data removed]",
      "text/plain": [
       "<Figure size 640x480 with 1 Axes>"
      ]
     },
     "metadata": {},
     "output_type": "display_data"
    }
   ],
   "source": [
    "\n",
    "plt.figure()\n",
    "ax = plt.axes()\n",
    "\n",
    "ax.plot(x_train, best_fit,'ro-', label='Best Fit Line')\n",
    "ax.plot(x_train, y_train,'bd', label='Data')\n",
    "\n",
    "ax.set_xlabel(r'$x_{train}$')\n",
    "ax.set_ylabel(r'$y_{train}$')\n",
    "ax.legend()"
   ]
  },
  {
   "cell_type": "markdown",
   "metadata": {},
   "source": [
    "### The structure of the `scikit-learn` library methods"
   ]
  },
  {
   "cell_type": "markdown",
   "metadata": {},
   "source": [
    "For most standard models we will use the [scikit learn (sklearn)](https://scikit-learn.org/stable/index.html) module \n",
    "\n",
    "**General sklearn model fitting code-structure :**\n",
    "\n",
    "*Define Model*\n",
    "\n",
    "        model = sklearn_model_name(hyper_parameter1 = value1, hyper_parameter2 = value2....)\n",
    "\n",
    "* This creates an object called `model`\n",
    "* Every `model` has a list of hyperparameters that can be set using sklearn for the specific problem. \n",
    "* In practice it is advisable to **cross-validate** to tune the hyperparameters to find the model with the best prediction performance.\n",
    "\n",
    "*Fit Model*\n",
    "\n",
    "        model.fit(x_train, y_train)\n",
    "\n",
    "* ```model.fit``` calculates the parameters of your model corresponding to the training data and hyperparameters you provided.\n",
    "\n",
    "*Get Predictions*\n",
    "#on training data \n",
    "y_prediction_train = model.predict(x_train)\n",
    "\n",
    "\n",
    "\n",
    "*Evaluate Model*\n",
    "r2_train = model.score(y_train, y_pred_train)\n",
    "r2_test = model.score(y_test, y_pred_test)\n",
    "\n",
    "* Evaluation of model can vary according to the task at hand i.e. Regression or Classification. For Regression, $R^2$ Score is a good starting point, while for Classification, Accuracy (%) is a good starting point.  \n",
    "* In general, we always expect models to do well with training data.  (If they didnt we would just move on). The challenge is to get the model to work with test data.  \n"
   ]
  },
  {
   "cell_type": "markdown",
   "metadata": {},
   "source": [
    "** Split Data into Train and Test Set **\n",
    "\n",
    "* I introduced the term x_train and y_train rather than x and y.  \n",
    "* In the last lecture, we discussed the idea that a meaningful way to understand our model is to test it on new data\n",
    "* But, we usually don't have new data available, so what we can do is to **split the data into test and training sets.**  \n",
    "\n",
    "        x_train, x_test, ytrain, ytest = train_test_split(x, y, test_size=0.2, random_state=42)\n",
    "\n",
    "* The idea is we train the model on x_train, ytrain \n",
    "\n",
    "* We test the model on  x_test, y_test\n",
    "\n",
    " ``model.predict`` is the standard method called to make the model predict values for a specific X. \n",
    " \n",
    " * Depending on if you feed x_train or x_test, you will get a y_prediction_train or y_prediction_test respectively.\n",
    "\n",
    "        y_prediction_train = model.predict(x_train)\n",
    "        y_prediction_test = model.predict(x_test)\n"
   ]
  },
  {
   "cell_type": "markdown",
   "metadata": {},
   "source": [
    "![](../images/featurematrix.png)\n",
    "\n",
    "<!--![](../images/sklearn2.jpg)-->"
   ]
  },
  {
   "cell_type": "markdown",
   "metadata": {},
   "source": [
    "### Fuel Consumption Data Set \n",
    "We begin by loading up the `mtcars` dataset. This data was extracted from the 1974 Motor Trend US magazine, and comprises of fuel consumption and 10 aspects of automobile design and performance for 32 automobiles (1973–74 models). We will load this data to a dataframe with 32 observations on 11 (numeric) variables. Here is an explanation of the features:\n",
    "\n",
    "- `mpg` is Miles/(US) gallon \n",
    "- `cyl` is Number of cylinders, \n",
    "- `disp` is\tDisplacement (cu.in.), \n",
    "- `hp` is\tGross horsepower, \n",
    "- `drat` is\tRear axle ratio, \n",
    "- `wt` is the Weight (1000 lbs), \n",
    "- `qsec` is 1/4 mile time,\n",
    "- `vs` is Engine (0 = V-shaped, 1 = straight), \n",
    "- `am` is Transmission (0 = automatic, 1 = manual), \n",
    "- `gear` is the Number of forward gears, \n",
    "- `carb` is\tNumber of carburetors."
   ]
  },
  {
   "cell_type": "code",
   "execution_count": 53,
   "metadata": {},
   "outputs": [
    {
     "data": {
      "application/vnd.microsoft.datawrangler.viewer.v0+json": {
       "columns": [
        {
         "name": "index",
         "rawType": "int64",
         "type": "integer"
        },
        {
         "name": "Unnamed: 0",
         "rawType": "object",
         "type": "string"
        },
        {
         "name": "mpg",
         "rawType": "float64",
         "type": "float"
        },
        {
         "name": "cyl",
         "rawType": "int64",
         "type": "integer"
        },
        {
         "name": "disp",
         "rawType": "float64",
         "type": "float"
        },
        {
         "name": "hp",
         "rawType": "int64",
         "type": "integer"
        },
        {
         "name": "drat",
         "rawType": "float64",
         "type": "float"
        },
        {
         "name": "wt",
         "rawType": "float64",
         "type": "float"
        },
        {
         "name": "qsec",
         "rawType": "float64",
         "type": "float"
        },
        {
         "name": "vs",
         "rawType": "int64",
         "type": "integer"
        },
        {
         "name": "am",
         "rawType": "int64",
         "type": "integer"
        },
        {
         "name": "gear",
         "rawType": "int64",
         "type": "integer"
        },
        {
         "name": "carb",
         "rawType": "int64",
         "type": "integer"
        }
       ],
       "ref": "c2c3f9d2-6832-417b-95c4-ed8370a14e45",
       "rows": [
        [
         "0",
         "Mazda RX4",
         "21.0",
         "6",
         "160.0",
         "110",
         "3.9",
         "2.62",
         "16.46",
         "0",
         "1",
         "4",
         "4"
        ],
        [
         "1",
         "Mazda RX4 Wag",
         "21.0",
         "6",
         "160.0",
         "110",
         "3.9",
         "2.875",
         "17.02",
         "0",
         "1",
         "4",
         "4"
        ],
        [
         "2",
         "Datsun 710",
         "22.8",
         "4",
         "108.0",
         "93",
         "3.85",
         "2.32",
         "18.61",
         "1",
         "1",
         "4",
         "1"
        ],
        [
         "3",
         "Hornet 4 Drive",
         "21.4",
         "6",
         "258.0",
         "110",
         "3.08",
         "3.215",
         "19.44",
         "1",
         "0",
         "3",
         "1"
        ],
        [
         "4",
         "Hornet Sportabout",
         "18.7",
         "8",
         "360.0",
         "175",
         "3.15",
         "3.44",
         "17.02",
         "0",
         "0",
         "3",
         "2"
        ]
       ],
       "shape": {
        "columns": 12,
        "rows": 5
       }
      },
      "text/html": [
       "<div>\n",
       "<style scoped>\n",
       "    .dataframe tbody tr th:only-of-type {\n",
       "        vertical-align: middle;\n",
       "    }\n",
       "\n",
       "    .dataframe tbody tr th {\n",
       "        vertical-align: top;\n",
       "    }\n",
       "\n",
       "    .dataframe thead th {\n",
       "        text-align: right;\n",
       "    }\n",
       "</style>\n",
       "<table border=\"1\" class=\"dataframe\">\n",
       "  <thead>\n",
       "    <tr style=\"text-align: right;\">\n",
       "      <th></th>\n",
       "      <th>Unnamed: 0</th>\n",
       "      <th>mpg</th>\n",
       "      <th>cyl</th>\n",
       "      <th>disp</th>\n",
       "      <th>hp</th>\n",
       "      <th>drat</th>\n",
       "      <th>wt</th>\n",
       "      <th>qsec</th>\n",
       "      <th>vs</th>\n",
       "      <th>am</th>\n",
       "      <th>gear</th>\n",
       "      <th>carb</th>\n",
       "    </tr>\n",
       "  </thead>\n",
       "  <tbody>\n",
       "    <tr>\n",
       "      <th>0</th>\n",
       "      <td>Mazda RX4</td>\n",
       "      <td>21.0</td>\n",
       "      <td>6</td>\n",
       "      <td>160.0</td>\n",
       "      <td>110</td>\n",
       "      <td>3.90</td>\n",
       "      <td>2.620</td>\n",
       "      <td>16.46</td>\n",
       "      <td>0</td>\n",
       "      <td>1</td>\n",
       "      <td>4</td>\n",
       "      <td>4</td>\n",
       "    </tr>\n",
       "    <tr>\n",
       "      <th>1</th>\n",
       "      <td>Mazda RX4 Wag</td>\n",
       "      <td>21.0</td>\n",
       "      <td>6</td>\n",
       "      <td>160.0</td>\n",
       "      <td>110</td>\n",
       "      <td>3.90</td>\n",
       "      <td>2.875</td>\n",
       "      <td>17.02</td>\n",
       "      <td>0</td>\n",
       "      <td>1</td>\n",
       "      <td>4</td>\n",
       "      <td>4</td>\n",
       "    </tr>\n",
       "    <tr>\n",
       "      <th>2</th>\n",
       "      <td>Datsun 710</td>\n",
       "      <td>22.8</td>\n",
       "      <td>4</td>\n",
       "      <td>108.0</td>\n",
       "      <td>93</td>\n",
       "      <td>3.85</td>\n",
       "      <td>2.320</td>\n",
       "      <td>18.61</td>\n",
       "      <td>1</td>\n",
       "      <td>1</td>\n",
       "      <td>4</td>\n",
       "      <td>1</td>\n",
       "    </tr>\n",
       "    <tr>\n",
       "      <th>3</th>\n",
       "      <td>Hornet 4 Drive</td>\n",
       "      <td>21.4</td>\n",
       "      <td>6</td>\n",
       "      <td>258.0</td>\n",
       "      <td>110</td>\n",
       "      <td>3.08</td>\n",
       "      <td>3.215</td>\n",
       "      <td>19.44</td>\n",
       "      <td>1</td>\n",
       "      <td>0</td>\n",
       "      <td>3</td>\n",
       "      <td>1</td>\n",
       "    </tr>\n",
       "    <tr>\n",
       "      <th>4</th>\n",
       "      <td>Hornet Sportabout</td>\n",
       "      <td>18.7</td>\n",
       "      <td>8</td>\n",
       "      <td>360.0</td>\n",
       "      <td>175</td>\n",
       "      <td>3.15</td>\n",
       "      <td>3.440</td>\n",
       "      <td>17.02</td>\n",
       "      <td>0</td>\n",
       "      <td>0</td>\n",
       "      <td>3</td>\n",
       "      <td>2</td>\n",
       "    </tr>\n",
       "  </tbody>\n",
       "</table>\n",
       "</div>"
      ],
      "text/plain": [
       "          Unnamed: 0   mpg  cyl   disp   hp  drat     wt   qsec  vs  am  gear  \\\n",
       "0          Mazda RX4  21.0    6  160.0  110  3.90  2.620  16.46   0   1     4   \n",
       "1      Mazda RX4 Wag  21.0    6  160.0  110  3.90  2.875  17.02   0   1     4   \n",
       "2         Datsun 710  22.8    4  108.0   93  3.85  2.320  18.61   1   1     4   \n",
       "3     Hornet 4 Drive  21.4    6  258.0  110  3.08  3.215  19.44   1   0     3   \n",
       "4  Hornet Sportabout  18.7    8  360.0  175  3.15  3.440  17.02   0   0     3   \n",
       "\n",
       "   carb  \n",
       "0     4  \n",
       "1     4  \n",
       "2     1  \n",
       "3     1  \n",
       "4     2  "
      ]
     },
     "execution_count": 53,
     "metadata": {},
     "output_type": "execute_result"
    }
   ],
   "source": [
    "import pandas as pd\n",
    "#load mtcars\n",
    "dfcars = pd.read_csv(\"./data/mtcars.csv\")\n",
    "dfcars.head()"
   ]
  },
  {
   "cell_type": "code",
   "execution_count": 42,
   "metadata": {},
   "outputs": [
    {
     "data": {
      "text/plain": [
       "(32, 12)"
      ]
     },
     "execution_count": 42,
     "metadata": {},
     "output_type": "execute_result"
    }
   ],
   "source": [
    "dfcars.shape"
   ]
  },
  {
   "cell_type": "code",
   "execution_count": 54,
   "metadata": {},
   "outputs": [
    {
     "data": {
      "image/png": "[encoded data removed]",
      "text/plain": [
       "<Figure size 1500x600 with 2 Axes>"
      ]
     },
     "metadata": {},
     "output_type": "display_data"
    }
   ],
   "source": [
    "y_mpg = np.array(dfcars.mpg)\n",
    "x_wt = np.array(dfcars.wt)\n",
    "x_hp = np.array(dfcars.hp)\n",
    "fig, ax = plt.subplots(1,2,figsize=(15,6))\n",
    "ax[0].plot(x_wt, y_mpg,'bo')\n",
    "ax[0].set_xlabel('Car Weight')\n",
    "ax[0].set_ylabel('Car MPG')\n",
    "ax[1].plot(x_hp, y_mpg,'ro')\n",
    "ax[1].set_xlabel('Car HP')\n",
    "ax[1].set_ylabel('Car MPG')\n",
    "plt.show()"
   ]
  },
  {
   "cell_type": "markdown",
   "metadata": {},
   "source": [
    "* Next, let's split the dataset into a training set and test set.\n",
    "* There are two critical parameters here.  \n",
    "    * `test_size` determines what fraction of the data should be set aside for the test set\n",
    "    * `random_state` sets a seed in order to first shuffle the data and then split it. \n",
    "    * \n",
    "* this is cool.  I can directly split the data frame, and thus be able to have two separate data frames. "
   ]
  },
  {
   "cell_type": "code",
   "execution_count": 44,
   "metadata": {},
   "outputs": [],
   "source": [
    "# split into training set and testing set\n",
    "from sklearn.model_selection import train_test_split\n",
    "\n",
    "#set random_state to get the same split every time\n",
    "\n",
    "traindf, testdf = train_test_split(dfcars, test_size=0.3, random_state=83)\n"
   ]
  },
  {
   "cell_type": "code",
   "execution_count": 45,
   "metadata": {},
   "outputs": [
    {
     "name": "stdout",
     "output_type": "stream",
     "text": [
      "<class 'pandas.core.frame.DataFrame'>\n",
      "Index: 22 entries, 9 to 18\n",
      "Data columns (total 12 columns):\n",
      " #   Column      Non-Null Count  Dtype  \n",
      "---  ------      --------------  -----  \n",
      " 0   Unnamed: 0  22 non-null     object \n",
      " 1   mpg         22 non-null     float64\n",
      " 2   cyl         22 non-null     int64  \n",
      " 3   disp        22 non-null     float64\n",
      " 4   hp          22 non-null     int64  \n",
      " 5   drat        22 non-null     float64\n",
      " 6   wt          22 non-null     float64\n",
      " 7   qsec        22 non-null     float64\n",
      " 8   vs          22 non-null     int64  \n",
      " 9   am          22 non-null     int64  \n",
      " 10  gear        22 non-null     int64  \n",
      " 11  carb        22 non-null     int64  \n",
      "dtypes: float64(5), int64(6), object(1)\n",
      "memory usage: 2.2+ KB\n"
     ]
    }
   ],
   "source": [
    "traindf.info()"
   ]
  },
  {
   "cell_type": "markdown",
   "metadata": {},
   "source": [
    "Our **target** variable - `y` is mpg.   hp and wt are **predictors** - the `x` variable "
   ]
  },
  {
   "cell_type": "code",
   "execution_count": 46,
   "metadata": {},
   "outputs": [],
   "source": [
    "#Here is how to extract the numpy arrays from the training data frame.\n",
    "mpg_train = np.array(traindf.mpg)\n",
    "hp_train = np.array(traindf.hp)\n",
    "wt_train = np.array(traindf.wt)\n",
    "#do the stupid reshape to make regression function work. \n",
    "hp_train = hp_train.reshape(hp_train.shape[0], 1)\n",
    "wt_train = wt_train.reshape(wt_train.shape[0], 1)"
   ]
  },
  {
   "cell_type": "code",
   "execution_count": 47,
   "metadata": {},
   "outputs": [],
   "source": [
    "#here is how to extract the numpy arrays from the test data frame.\n",
    "mpg_test = np.array(testdf.mpg)\n",
    "hp_test = np.array(testdf.hp)\n",
    "wt_test = np.array(testdf.wt)\n",
    "#do the stupid reshape to make regression function work. \n",
    "hp_test = hp_test.reshape(hp_test.shape[0], 1)\n",
    "wt_test = wt_test.reshape(wt_test.shape[0], 1)"
   ]
  },
  {
   "cell_type": "code",
   "execution_count": 48,
   "metadata": {},
   "outputs": [],
   "source": [
    "from sklearn.linear_model import LinearRegression\n",
    "#create linear model\n",
    "lr_hp = LinearRegression()\n",
    "#fit linear model for hp\n",
    "lr_hp.fit(hp_train, mpg_train)\n",
    "#predict the test data from hp\n",
    "hp_pr_mpg = lr_hp.predict(hp_test)"
   ]
  },
  {
   "cell_type": "markdown",
   "metadata": {},
   "source": [
    "### Model Evaluation using $R^2$ - proportion of variance accounted for by the model. \n",
    "\n",
    "* The predicted values of $y$ are $\\hat{y}_i$ from each $x_i$ \n",
    "\n",
    "$$\n",
    "\\hat{y}_i = \\hat{\\beta}_0 + \\hat{\\beta}_1 x_i, \n",
    "\n",
    "$$\n",
    "\n",
    "* Then the equation for $R^2$ is \n",
    "\n",
    "$$ R^2\n",
    "= 1 - \\frac{\\mathrm{SS}_{\\mathrm{res}}}{\\mathrm{SS}_{\\mathrm{tot}}}\n",
    "= 1 - \\frac{\\sum_{i=1}^{n} \\bigl(y_i - \\hat{y}_i\\bigr)^2}{\\sum_{i=1}^{n} \\bigl(y_i - \\bar{y}\\bigr)^2},\n",
    "$$\n",
    "\n",
    "* Notice that the numerator is our error function that we minimized to get our least squares solution.  \n",
    "* The denominator is the variance in the $y$ (without dividing by the number of samples) \n",
    "\n",
    "\n",
    "$$\n",
    "\\mathrm{SS}_{\\mathrm{res}}\n",
    "= \\sum_{i=1}^{n} \\bigl(y_i - \\hat{y}_i \\bigr)^2\n",
    "= \\sum_{i=1}^{n} \\bigl(y_i - (\\hat{\\beta}_0 + \\hat{\\beta}_1 x_i)\\bigr)^2,\n",
    "$$\n",
    "\n",
    "$$\n",
    "\\mathrm{SS}_{\\mathrm{tot}}\n",
    "= \\sum_{i=1}^{n} \\bigl(y_i - \\bar{y} \\bigr)^2,\n",
    "\n",
    "$$\n",
    "\n",
    "* $\\bar{y}$ is just the mean.  \n",
    "\n",
    "$$\\bar{y} = \\frac{1}{n}\\sum_{i=1}^n y_i $$\n",
    "\n",
    "* Equivalently, a common form in the case of simple linear regression is \n",
    "\n",
    "$$\n",
    "R^2\n",
    "= \\frac{\\mathrm{Cov}(X,Y)^2}{\\mathrm{Var}(X)\\,\\mathrm{Var}(Y)}\n",
    "= \\rho_{XY}^2,\n",
    "$$\n",
    "\n",
    "* where $\\rho_{XY}$ is the correlation coefficient\n"
   ]
  },
  {
   "cell_type": "code",
   "execution_count": 58,
   "metadata": {},
   "outputs": [
    {
     "name": "stdout",
     "output_type": "stream",
     "text": [
      "hp training R^2 =  0.605653885592825\n",
      "hp test R^2 =  0.5786483221508159\n"
     ]
    }
   ],
   "source": [
    "# there is a function called score -- whatever the logical score would be \n",
    "# regression model - score is R^2\n",
    "# horse powerrr\n",
    "\n",
    "hp_test_r2 = lr_hp.score(hp_test, mpg_test)\n",
    "hp_train_r2 = lr_hp.score(hp_train, mpg_train)\n",
    "print('hp training R^2 = ' ,hp_train_r2)\n",
    "print('hp test R^2 = ' ,hp_test_r2)"
   ]
  },
  {
   "cell_type": "code",
   "execution_count": 57,
   "metadata": {},
   "outputs": [
    {
     "name": "stdout",
     "output_type": "stream",
     "text": [
      "wt training R^2 = 0.7984919418023596\n",
      "wt test R^2 = 0.5670679031203465\n"
     ]
    }
   ],
   "source": [
    "# weight\n",
    "\n",
    "lr_mpg = LinearRegression()  #create linear model\n",
    "lr_mpg.fit(wt_train, mpg_train) #fit linear model for wt\n",
    "wt_pr_mpg = lr_mpg.predict(wt_test) #predict mpg from wt for test data\n",
    "wt_train_r2 = lr_mpg.score(wt_train, mpg_train) #compute R^2 for training data\n",
    "wt_test_r2 = lr_mpg.score(wt_test, mpg_test) #compute R^2 for test data\n",
    "print('wt training R^2 =' ,wt_train_r2) \n",
    "print('wt test R^2 =' ,wt_test_r2)"
   ]
  },
  {
   "cell_type": "markdown",
   "metadata": {},
   "source": [
    "### Some preliminary thoughts:  \n",
    "* Wt seems fit the mpg much better than horse power. \n",
    "    * $R^2$ in the training data is 0.80 for weight, while for horse power, $R^2$ in the training data is only 0.6   \n",
    "* Both models predict new variables with about the same accuracy\n",
    "    * $R^2$ in the training data is 0.57 for weight, while for horse power, $R^2$ in the test data is only 0.58 "
   ]
  },
  {
   "cell_type": "markdown",
   "metadata": {},
   "source": [
    "Ideas to make it work better. \n",
    "Should we use a power law or exponential? \n",
    "Should we use both the variables?  "
   ]
  },
  {
   "cell_type": "markdown",
   "metadata": {},
   "source": [
    "### Is a linear model robust?  \n",
    " * no... linear models struggle with outliers \n",
    "    * we need to detect and remove strange data as linear models are sensitive to these numbers\n"
   ]
  },
  {
   "cell_type": "code",
   "execution_count": 51,
   "metadata": {},
   "outputs": [],
   "source": [
    "\n",
    "rng = np.random.default_rng(42)\n",
    "\n",
    "n = 20\n",
    "beta0_true = 1.0\n",
    "beta1_true = 2.0\n",
    "sigma = 0.7\n",
    "\n",
    "# Generate 19 points\n",
    "X_in = rng.normal(loc=0.0, scale=1.0, size=n-1)\n",
    "eps_in = rng.normal(loc=0.0, scale=sigma, size=n-1)\n",
    "y_in = beta0_true + beta1_true * X_in + eps_in\n",
    "\n",
    "# Add one influential outlier (both high leverage in X and large vertical residual in y)\n",
    "x_out = 5.0\n",
    "y_out = beta0_true + beta1_true * x_out + 12.0  # big positive deviation to strongly pull the line\n",
    "\n",
    "# Combine into full dataset\n",
    "X = np.concatenate([X_in, [x_out]])\n",
    "y = np.concatenate([y_in, [y_out]])\n",
    "\n"
   ]
  },
  {
   "cell_type": "code",
   "execution_count": 52,
   "metadata": {},
   "outputs": [
    {
     "name": "stdout",
     "output_type": "stream",
     "text": [
      "Reshaping features array.\n",
      "Reshaping observations array.\n",
      " Estimated Slope: 3.508894070433749\n",
      "Actual Slope: 2.0\n",
      " Estimated Intercept: 1.3496630287049487\n",
      "Actual Intercept: 1.0\n"
     ]
    }
   ],
   "source": [
    "betas = simple_linear_regression_fit(X,y) #Im using the original data\n",
    "print(f\" Estimated Slope: {betas[1]}\")\n",
    "print(f\"Actual Slope: {beta1_true}\")\n",
    "print(f\" Estimated Intercept: {betas[0]}\")\n",
    "print(f\"Actual Intercept: {beta0_true}\")"
   ]
  },
  {
   "cell_type": "markdown",
   "metadata": {},
   "source": [
    "\n",
    "\n",
    "\n",
    "* For a linear model with no intercept (centered data with means of 0) we can show that,\n",
    "\n",
    "$$y_{i} = \\beta x_{i} \\rightarrow y_i = \\sum_{j=1}^{n} a_{j,i} y_{j}$$\n",
    "\n",
    "\n",
    "$$\\beta = \\dfrac{\\sum_{j=1}^{n}x_jy_j}{\\sum_{k=1}^{n}x_{k}^2}$$\n",
    "\n",
    "$$ y_{i} = \\dfrac{\\sum_{j=1}^{n}x_jy_j}{\\sum_{k=1}^{n}x_{k}^2} x_{i} $$\n",
    "\n",
    "$$ y_{i}  = \\sum_{j=1}^{n} \\dfrac{x_{i}x_{j}}{\\sum_{k=1}^{n}x^2_k} y_j $$\n",
    "\n",
    "\n",
    "Therefore,\n",
    "\n",
    "$$y_{i} = \\sum_{j=1}^{n} a_{j,i} y_{j} $$\n",
    "\n",
    "$$a_{j,i} = \\dfrac{x_{j}}{\\sum_{k=1}^{n}x^2_k} x_{i}$$\n",
    "\n",
    "\n",
    "* This means a linear regression model is just a **weighted** average over the points observed.  \n",
    "* That average is ALWAYS weighting points that are far away from the mean in x and y.  "
   ]
  },
  {
   "cell_type": "markdown",
   "metadata": {},
   "source": []
  }
 ],
 "metadata": {
  "anaconda-cloud": {},
  "kernelspec": {
   "display_name": "Python 3",
   "language": "python",
   "name": "python3"
  },
  "language_info": {
   "codemirror_mode": {
    "name": "ipython",
    "version": 3
   },
   "file_extension": ".py",
   "mimetype": "text/x-python",
   "name": "python",
   "nbconvert_exporter": "python",
   "pygments_lexer": "ipython3",
   "version": "3.11.9"
  }
 },
 "nbformat": 4,
 "nbformat_minor": 1
}
